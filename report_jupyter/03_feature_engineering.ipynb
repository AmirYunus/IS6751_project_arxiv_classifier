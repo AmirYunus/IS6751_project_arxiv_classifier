{
 "cells": [
  {
   "cell_type": "markdown",
   "metadata": {},
   "source": [
    "# Group Project: Arxiv Classifier\n",
    "Authors: Amir Yunus, Brandon Gay, Lee Oon Teng"
   ]
  },
  {
   "cell_type": "code",
   "execution_count": 2,
   "metadata": {},
   "outputs": [],
   "source": [
    "from utils import load_data"
   ]
  },
  {
   "cell_type": "markdown",
   "metadata": {},
   "source": [
    "# 03 - Feature Engineering"
   ]
  },
  {
   "cell_type": "markdown",
   "metadata": {},
   "source": [
    "## 03.1 - Load the Data"
   ]
  },
  {
   "cell_type": "code",
   "execution_count": 5,
   "metadata": {},
   "outputs": [
    {
     "data": {
      "text/html": [
       "<div>\n",
       "<style scoped>\n",
       "    .dataframe tbody tr th:only-of-type {\n",
       "        vertical-align: middle;\n",
       "    }\n",
       "\n",
       "    .dataframe tbody tr th {\n",
       "        vertical-align: top;\n",
       "    }\n",
       "\n",
       "    .dataframe thead th {\n",
       "        text-align: right;\n",
       "    }\n",
       "</style>\n",
       "<table border=\"1\" class=\"dataframe\">\n",
       "  <thead>\n",
       "    <tr style=\"text-align: right;\">\n",
       "      <th></th>\n",
       "      <th>title</th>\n",
       "      <th>summary</th>\n",
       "      <th>comment</th>\n",
       "      <th>authors</th>\n",
       "      <th>category</th>\n",
       "      <th>split</th>\n",
       "    </tr>\n",
       "  </thead>\n",
       "  <tbody>\n",
       "    <tr>\n",
       "      <th>0</th>\n",
       "      <td>gammaray bursts death throes massive binary stars</td>\n",
       "      <td>proposed gammaray bursts created mergers doubl...</td>\n",
       "      <td>pages</td>\n",
       "      <td>ramesh narayan bohdan paczynski tsvi piran</td>\n",
       "      <td>physics</td>\n",
       "      <td>test</td>\n",
       "    </tr>\n",
       "    <tr>\n",
       "      <th>1</th>\n",
       "      <td>gravitational lensing variability g</td>\n",
       "      <td>four observables associated gravitational lens...</td>\n",
       "      <td>pages plus figures included</td>\n",
       "      <td>lawrence krauss martin white</td>\n",
       "      <td>physics</td>\n",
       "      <td>val</td>\n",
       "    </tr>\n",
       "    <tr>\n",
       "      <th>2</th>\n",
       "      <td>ptolemaic gammaray burst universe</td>\n",
       "      <td>batse experiment gro demonstrated isotropic ar...</td>\n",
       "      <td>pages replaced provide omitted line</td>\n",
       "      <td>j katz</td>\n",
       "      <td>physics</td>\n",
       "      <td>train</td>\n",
       "    </tr>\n",
       "    <tr>\n",
       "      <th>3</th>\n",
       "      <td>expanding photospheres type ii supernovae extr...</td>\n",
       "      <td>use expanding photosphere method determine dis...</td>\n",
       "      <td>pages</td>\n",
       "      <td>b p schmidt r p kirshner r g eastman</td>\n",
       "      <td>physics</td>\n",
       "      <td>train</td>\n",
       "    </tr>\n",
       "    <tr>\n",
       "      <th>4</th>\n",
       "      <td>radiation transfer gammaray bursts</td>\n",
       "      <td>calculated gammaray radiative transport region...</td>\n",
       "      <td>pages</td>\n",
       "      <td>b j carrigan j katz</td>\n",
       "      <td>physics</td>\n",
       "      <td>test</td>\n",
       "    </tr>\n",
       "  </tbody>\n",
       "</table>\n",
       "</div>"
      ],
      "text/plain": [
       "                                               title  \\\n",
       "0  gammaray bursts death throes massive binary stars   \n",
       "1                gravitational lensing variability g   \n",
       "2                  ptolemaic gammaray burst universe   \n",
       "3  expanding photospheres type ii supernovae extr...   \n",
       "4                 radiation transfer gammaray bursts   \n",
       "\n",
       "                                             summary  \\\n",
       "0  proposed gammaray bursts created mergers doubl...   \n",
       "1  four observables associated gravitational lens...   \n",
       "2  batse experiment gro demonstrated isotropic ar...   \n",
       "3  use expanding photosphere method determine dis...   \n",
       "4  calculated gammaray radiative transport region...   \n",
       "\n",
       "                               comment  \\\n",
       "0                                pages   \n",
       "1          pages plus figures included   \n",
       "2  pages replaced provide omitted line   \n",
       "3                                pages   \n",
       "4                                pages   \n",
       "\n",
       "                                      authors category  split  \n",
       "0  ramesh narayan bohdan paczynski tsvi piran  physics   test  \n",
       "1                lawrence krauss martin white  physics    val  \n",
       "2                                      j katz  physics  train  \n",
       "3        b p schmidt r p kirshner r g eastman  physics  train  \n",
       "4                         b j carrigan j katz  physics   test  "
      ]
     },
     "metadata": {},
     "output_type": "display_data"
    }
   ],
   "source": [
    "filename = 'arxiv_lite'\n",
    "df = load_data(f'../data/01_{filename}_processed.bin')"
   ]
  },
  {
   "cell_type": "markdown",
   "metadata": {},
   "source": []
  }
 ],
 "metadata": {
  "kernelspec": {
   "display_name": "Python 3",
   "language": "python",
   "name": "python3"
  },
  "language_info": {
   "codemirror_mode": {
    "name": "ipython",
    "version": 3
   },
   "file_extension": ".py",
   "mimetype": "text/x-python",
   "name": "python",
   "nbconvert_exporter": "python",
   "pygments_lexer": "ipython3",
   "version": "3.11.10"
  }
 },
 "nbformat": 4,
 "nbformat_minor": 2
}
