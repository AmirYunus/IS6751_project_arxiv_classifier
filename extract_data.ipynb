{
 "cells": [
  {
   "cell_type": "code",
   "execution_count": 1,
   "metadata": {},
   "outputs": [],
   "source": [
    "import pandas as pd"
   ]
  },
  {
   "cell_type": "code",
   "execution_count": 2,
   "metadata": {},
   "outputs": [],
   "source": [
    "df = pd.read_csv('data/arxiv_large.csv')"
   ]
  },
  {
   "cell_type": "code",
   "execution_count": null,
   "metadata": {},
   "outputs": [],
   "source": [
    "df.shape"
   ]
  },
  {
   "cell_type": "code",
   "execution_count": null,
   "metadata": {},
   "outputs": [],
   "source": [
    "df.head()"
   ]
  },
  {
   "cell_type": "code",
   "execution_count": null,
   "metadata": {},
   "outputs": [],
   "source": [
    "# Function to count words in a string\n",
    "def word_count(text):\n",
    "    return len(str(text).split())\n",
    "\n",
    "# Apply word count to relevant columns and create a new column for total word count\n",
    "df['total_word_count'] = df['title'].apply(word_count) + \\\n",
    "                         df['summary'].apply(word_count) + \\\n",
    "                         df['comment'].apply(word_count) + \\\n",
    "                         df['authors'].apply(word_count)\n",
    "\n",
    "# Filter the DataFrame to keep only rows with total word count less than 500\n",
    "df = df[df['total_word_count'] < 500]\n",
    "\n",
    "# Drop the temporary total_word_count column\n",
    "df = df.drop('total_word_count', axis=1)\n",
    "\n",
    "# Reset the index of the filtered DataFrame\n",
    "df = df.reset_index(drop=True)\n",
    "\n",
    "print(f\"Shape after filtering: {df.shape}\")\n"
   ]
  },
  {
   "cell_type": "code",
   "execution_count": 6,
   "metadata": {},
   "outputs": [],
   "source": [
    "# Create DataFrames for each split\n",
    "df_train = df[df['split'] == 'train']\n",
    "df_test = df[df['split'] == 'test']\n",
    "df_val = df[df['split'] == 'val']"
   ]
  },
  {
   "cell_type": "code",
   "execution_count": null,
   "metadata": {},
   "outputs": [],
   "source": [
    "df_train.shape, df_test.shape, df_val.shape"
   ]
  },
  {
   "cell_type": "code",
   "execution_count": 8,
   "metadata": {},
   "outputs": [],
   "source": [
    "# Randomly select 50% of each DataFrame\n",
    "df_train_sample = df_train.sample(frac=0.125, random_state=42)\n",
    "df_test_sample = df_test.sample(frac=0.125, random_state=42)\n",
    "df_val_sample = df_val.sample(frac=0.125, random_state=42)"
   ]
  },
  {
   "cell_type": "code",
   "execution_count": null,
   "metadata": {},
   "outputs": [],
   "source": [
    "df_train_sample.shape, df_test_sample.shape, df_val_sample.shape"
   ]
  },
  {
   "cell_type": "code",
   "execution_count": 10,
   "metadata": {},
   "outputs": [],
   "source": [
    "# Combine the sampled DataFrames into a single DataFrame\n",
    "df_combined = pd.concat([df_train_sample, df_test_sample, df_val_sample], axis=0)\n",
    "\n",
    "# Reset the index of the combined DataFrame\n",
    "df_combined = df_combined.reset_index(drop=True)"
   ]
  },
  {
   "cell_type": "code",
   "execution_count": null,
   "metadata": {},
   "outputs": [],
   "source": [
    "df_combined.shape"
   ]
  },
  {
   "cell_type": "code",
   "execution_count": null,
   "metadata": {},
   "outputs": [],
   "source": [
    "df_combined.head()"
   ]
  },
  {
   "cell_type": "code",
   "execution_count": null,
   "metadata": {},
   "outputs": [],
   "source": [
    "# Save the combined DataFrame as a CSV file\n",
    "output_file = './data/arxiv.csv'\n",
    "df_combined.to_csv(output_file, index=False)\n",
    "\n",
    "print(f\"Data saved to {output_file}\")\n"
   ]
  }
 ],
 "metadata": {
  "kernelspec": {
   "display_name": "Python 3",
   "language": "python",
   "name": "python3"
  },
  "language_info": {
   "codemirror_mode": {
    "name": "ipython",
    "version": 3
   },
   "file_extension": ".py",
   "mimetype": "text/x-python",
   "name": "python",
   "nbconvert_exporter": "python",
   "pygments_lexer": "ipython3",
   "version": "3.11.10"
  }
 },
 "nbformat": 4,
 "nbformat_minor": 2
}
