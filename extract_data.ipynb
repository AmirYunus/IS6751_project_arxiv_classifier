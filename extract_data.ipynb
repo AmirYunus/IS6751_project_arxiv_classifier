{
 "cells": [
  {
   "cell_type": "code",
   "execution_count": 1,
   "metadata": {},
   "outputs": [],
   "source": [
    "import pandas as pd"
   ]
  },
  {
   "cell_type": "code",
   "execution_count": 2,
   "metadata": {},
   "outputs": [],
   "source": [
    "df = pd.read_csv('data/arxiv_large.csv')"
   ]
  },
  {
   "cell_type": "code",
   "execution_count": 3,
   "metadata": {},
   "outputs": [
    {
     "data": {
      "text/plain": [
       "(665800, 6)"
      ]
     },
     "execution_count": 3,
     "metadata": {},
     "output_type": "execute_result"
    }
   ],
   "source": [
    "df.shape"
   ]
  },
  {
   "cell_type": "code",
   "execution_count": 4,
   "metadata": {},
   "outputs": [
    {
     "data": {
      "text/html": [
       "<div>\n",
       "<style scoped>\n",
       "    .dataframe tbody tr th:only-of-type {\n",
       "        vertical-align: middle;\n",
       "    }\n",
       "\n",
       "    .dataframe tbody tr th {\n",
       "        vertical-align: top;\n",
       "    }\n",
       "\n",
       "    .dataframe thead th {\n",
       "        text-align: right;\n",
       "    }\n",
       "</style>\n",
       "<table border=\"1\" class=\"dataframe\">\n",
       "  <thead>\n",
       "    <tr style=\"text-align: right;\">\n",
       "      <th></th>\n",
       "      <th>title</th>\n",
       "      <th>summary</th>\n",
       "      <th>comment</th>\n",
       "      <th>authors</th>\n",
       "      <th>category</th>\n",
       "      <th>split</th>\n",
       "    </tr>\n",
       "  </thead>\n",
       "  <tbody>\n",
       "    <tr>\n",
       "      <th>0</th>\n",
       "      <td>Gamma-Ray Bursts as the Death Throes of Massiv...</td>\n",
       "      <td>It is proposed that gamma-ray bursts are creat...</td>\n",
       "      <td>14 pages</td>\n",
       "      <td>Ramesh Narayan, Bohdan Paczyński, Tsvi Piran</td>\n",
       "      <td>physics</td>\n",
       "      <td>train</td>\n",
       "    </tr>\n",
       "    <tr>\n",
       "      <th>1</th>\n",
       "      <td>Gravitational Lensing and the Variability of G</td>\n",
       "      <td>The four observables associated with gravitati...</td>\n",
       "      <td>13 pages plus figures (not included)</td>\n",
       "      <td>Lawrence Krauss, Martin White</td>\n",
       "      <td>physics</td>\n",
       "      <td>test</td>\n",
       "    </tr>\n",
       "    <tr>\n",
       "      <th>2</th>\n",
       "      <td>The Ptolemaic Gamma-Ray Burst Universe</td>\n",
       "      <td>The BATSE experiment on GRO has demonstrated t...</td>\n",
       "      <td>10 pages (Replaced to provide omitted line.)</td>\n",
       "      <td>J. I. Katz</td>\n",
       "      <td>physics</td>\n",
       "      <td>train</td>\n",
       "    </tr>\n",
       "    <tr>\n",
       "      <th>3</th>\n",
       "      <td>Expanding Photospheres of Type II Supernovae a...</td>\n",
       "      <td>We use the Expanding Photosphere Method to det...</td>\n",
       "      <td>21 pages</td>\n",
       "      <td>B P Schmidt, R P Kirshner, R G Eastman</td>\n",
       "      <td>physics</td>\n",
       "      <td>val</td>\n",
       "    </tr>\n",
       "    <tr>\n",
       "      <th>4</th>\n",
       "      <td>Radiation Transfer in Gamma-Ray Bursts</td>\n",
       "      <td>We have calculated gamma-ray radiative transpo...</td>\n",
       "      <td>24 pages</td>\n",
       "      <td>B. J. Carrigan, J. I. Katz</td>\n",
       "      <td>physics</td>\n",
       "      <td>train</td>\n",
       "    </tr>\n",
       "  </tbody>\n",
       "</table>\n",
       "</div>"
      ],
      "text/plain": [
       "                                               title  \\\n",
       "0  Gamma-Ray Bursts as the Death Throes of Massiv...   \n",
       "1     Gravitational Lensing and the Variability of G   \n",
       "2             The Ptolemaic Gamma-Ray Burst Universe   \n",
       "3  Expanding Photospheres of Type II Supernovae a...   \n",
       "4             Radiation Transfer in Gamma-Ray Bursts   \n",
       "\n",
       "                                             summary  \\\n",
       "0  It is proposed that gamma-ray bursts are creat...   \n",
       "1  The four observables associated with gravitati...   \n",
       "2  The BATSE experiment on GRO has demonstrated t...   \n",
       "3  We use the Expanding Photosphere Method to det...   \n",
       "4  We have calculated gamma-ray radiative transpo...   \n",
       "\n",
       "                                        comment  \\\n",
       "0                                      14 pages   \n",
       "1          13 pages plus figures (not included)   \n",
       "2  10 pages (Replaced to provide omitted line.)   \n",
       "3                                      21 pages   \n",
       "4                                      24 pages   \n",
       "\n",
       "                                        authors category  split  \n",
       "0  Ramesh Narayan, Bohdan Paczyński, Tsvi Piran  physics  train  \n",
       "1                 Lawrence Krauss, Martin White  physics   test  \n",
       "2                                    J. I. Katz  physics  train  \n",
       "3        B P Schmidt, R P Kirshner, R G Eastman  physics    val  \n",
       "4                    B. J. Carrigan, J. I. Katz  physics  train  "
      ]
     },
     "execution_count": 4,
     "metadata": {},
     "output_type": "execute_result"
    }
   ],
   "source": [
    "df.head()"
   ]
  },
  {
   "cell_type": "code",
   "execution_count": 5,
   "metadata": {},
   "outputs": [
    {
     "name": "stdout",
     "output_type": "stream",
     "text": [
      "Shape after filtering: (665510, 6)\n"
     ]
    }
   ],
   "source": [
    "# Function to count words in a string\n",
    "def word_count(text):\n",
    "    return len(str(text).split())\n",
    "\n",
    "# Apply word count to relevant columns and create a new column for total word count\n",
    "df['total_word_count'] = df['title'].apply(word_count) + \\\n",
    "                         df['summary'].apply(word_count) + \\\n",
    "                         df['comment'].apply(word_count) + \\\n",
    "                         df['authors'].apply(word_count)\n",
    "\n",
    "# Filter the DataFrame to keep only rows with total word count less than 500\n",
    "df = df[df['total_word_count'] < 500]\n",
    "\n",
    "# Drop the temporary total_word_count column\n",
    "df = df.drop('total_word_count', axis=1)\n",
    "\n",
    "# Reset the index of the filtered DataFrame\n",
    "df = df.reset_index(drop=True)\n",
    "\n",
    "print(f\"Shape after filtering: {df.shape}\")\n"
   ]
  },
  {
   "cell_type": "code",
   "execution_count": 6,
   "metadata": {},
   "outputs": [],
   "source": [
    "# Create DataFrames for each split\n",
    "df_train = df[df['split'] == 'train']\n",
    "df_test = df[df['split'] == 'test']\n",
    "df_val = df[df['split'] == 'val']"
   ]
  },
  {
   "cell_type": "code",
   "execution_count": 7,
   "metadata": {},
   "outputs": [
    {
     "data": {
      "text/plain": [
       "((419279, 6), (66551, 6), (179680, 6))"
      ]
     },
     "execution_count": 7,
     "metadata": {},
     "output_type": "execute_result"
    }
   ],
   "source": [
    "df_train.shape, df_test.shape, df_val.shape"
   ]
  },
  {
   "cell_type": "code",
   "execution_count": 8,
   "metadata": {},
   "outputs": [],
   "source": [
    "# Randomly select 50% of each DataFrame\n",
    "df_train_sample = df_train.sample(frac=0.25, random_state=42)\n",
    "df_test_sample = df_test.sample(frac=0.25, random_state=42)\n",
    "df_val_sample = df_val.sample(frac=0.25, random_state=42)"
   ]
  },
  {
   "cell_type": "code",
   "execution_count": 9,
   "metadata": {},
   "outputs": [
    {
     "data": {
      "text/plain": [
       "((104820, 6), (16638, 6), (44920, 6))"
      ]
     },
     "execution_count": 9,
     "metadata": {},
     "output_type": "execute_result"
    }
   ],
   "source": [
    "df_train_sample.shape, df_test_sample.shape, df_val_sample.shape"
   ]
  },
  {
   "cell_type": "code",
   "execution_count": 10,
   "metadata": {},
   "outputs": [],
   "source": [
    "# Combine the sampled DataFrames into a single DataFrame\n",
    "df_combined = pd.concat([df_train_sample, df_test_sample, df_val_sample], axis=0)\n",
    "\n",
    "# Reset the index of the combined DataFrame\n",
    "df_combined = df_combined.reset_index(drop=True)"
   ]
  },
  {
   "cell_type": "code",
   "execution_count": 11,
   "metadata": {},
   "outputs": [
    {
     "data": {
      "text/plain": [
       "(166378, 6)"
      ]
     },
     "execution_count": 11,
     "metadata": {},
     "output_type": "execute_result"
    }
   ],
   "source": [
    "df_combined.shape"
   ]
  },
  {
   "cell_type": "code",
   "execution_count": 12,
   "metadata": {},
   "outputs": [
    {
     "data": {
      "text/html": [
       "<div>\n",
       "<style scoped>\n",
       "    .dataframe tbody tr th:only-of-type {\n",
       "        vertical-align: middle;\n",
       "    }\n",
       "\n",
       "    .dataframe tbody tr th {\n",
       "        vertical-align: top;\n",
       "    }\n",
       "\n",
       "    .dataframe thead th {\n",
       "        text-align: right;\n",
       "    }\n",
       "</style>\n",
       "<table border=\"1\" class=\"dataframe\">\n",
       "  <thead>\n",
       "    <tr style=\"text-align: right;\">\n",
       "      <th></th>\n",
       "      <th>title</th>\n",
       "      <th>summary</th>\n",
       "      <th>comment</th>\n",
       "      <th>authors</th>\n",
       "      <th>category</th>\n",
       "      <th>split</th>\n",
       "    </tr>\n",
       "  </thead>\n",
       "  <tbody>\n",
       "    <tr>\n",
       "      <th>0</th>\n",
       "      <td>Bayesian inversion for electromyography using ...</td>\n",
       "      <td>The reconstruction of the structure of biologi...</td>\n",
       "      <td>NaN</td>\n",
       "      <td>Anna Rörich, Tim A. Werthmann, Dominik Göddeke...</td>\n",
       "      <td>mathematics</td>\n",
       "      <td>train</td>\n",
       "    </tr>\n",
       "    <tr>\n",
       "      <th>1</th>\n",
       "      <td>A reassessment of the kinematics of PV Cephei ...</td>\n",
       "      <td>We present two Very Large Array observations o...</td>\n",
       "      <td>15 pages, 2 figures; accepted for publication ...</td>\n",
       "      <td>L. Loinard, L. F. Rodriguez, L. Gomez, J. Cant...</td>\n",
       "      <td>physics</td>\n",
       "      <td>train</td>\n",
       "    </tr>\n",
       "    <tr>\n",
       "      <th>2</th>\n",
       "      <td>A new minimal non-$σ$-scattered linear order</td>\n",
       "      <td>We will show it is consistent with $GCH$ that ...</td>\n",
       "      <td>NaN</td>\n",
       "      <td>Hossein Lamei Ramandi</td>\n",
       "      <td>mathematics</td>\n",
       "      <td>train</td>\n",
       "    </tr>\n",
       "    <tr>\n",
       "      <th>3</th>\n",
       "      <td>Proper phase imprinting method for a dark soli...</td>\n",
       "      <td>It is common knowledge that a dark soliton can...</td>\n",
       "      <td>5 pages, 2 figures, version accepted for publi...</td>\n",
       "      <td>Krzysztof Sacha, Dominique Delande</td>\n",
       "      <td>physics</td>\n",
       "      <td>train</td>\n",
       "    </tr>\n",
       "    <tr>\n",
       "      <th>4</th>\n",
       "      <td>The impact of primordial supersonic flows on e...</td>\n",
       "      <td>Tseliakhovich &amp; Hirata recently discovered tha...</td>\n",
       "      <td>Paulo maiora canamus - Accepted for publicatio...</td>\n",
       "      <td>Umberto Maio, Leon V. E. Koopmans, Benedetta C...</td>\n",
       "      <td>physics</td>\n",
       "      <td>train</td>\n",
       "    </tr>\n",
       "  </tbody>\n",
       "</table>\n",
       "</div>"
      ],
      "text/plain": [
       "                                               title  \\\n",
       "0  Bayesian inversion for electromyography using ...   \n",
       "1  A reassessment of the kinematics of PV Cephei ...   \n",
       "2       A new minimal non-$σ$-scattered linear order   \n",
       "3  Proper phase imprinting method for a dark soli...   \n",
       "4  The impact of primordial supersonic flows on e...   \n",
       "\n",
       "                                             summary  \\\n",
       "0  The reconstruction of the structure of biologi...   \n",
       "1  We present two Very Large Array observations o...   \n",
       "2  We will show it is consistent with $GCH$ that ...   \n",
       "3  It is common knowledge that a dark soliton can...   \n",
       "4  Tseliakhovich & Hirata recently discovered tha...   \n",
       "\n",
       "                                             comment  \\\n",
       "0                                                NaN   \n",
       "1  15 pages, 2 figures; accepted for publication ...   \n",
       "2                                                NaN   \n",
       "3  5 pages, 2 figures, version accepted for publi...   \n",
       "4  Paulo maiora canamus - Accepted for publicatio...   \n",
       "\n",
       "                                             authors     category  split  \n",
       "0  Anna Rörich, Tim A. Werthmann, Dominik Göddeke...  mathematics  train  \n",
       "1  L. Loinard, L. F. Rodriguez, L. Gomez, J. Cant...      physics  train  \n",
       "2                              Hossein Lamei Ramandi  mathematics  train  \n",
       "3                 Krzysztof Sacha, Dominique Delande      physics  train  \n",
       "4  Umberto Maio, Leon V. E. Koopmans, Benedetta C...      physics  train  "
      ]
     },
     "execution_count": 12,
     "metadata": {},
     "output_type": "execute_result"
    }
   ],
   "source": [
    "df_combined.head()"
   ]
  },
  {
   "cell_type": "code",
   "execution_count": 13,
   "metadata": {},
   "outputs": [
    {
     "name": "stdout",
     "output_type": "stream",
     "text": [
      "Data saved to ./data/arxiv_small.csv\n"
     ]
    }
   ],
   "source": [
    "# Save the combined DataFrame as a CSV file\n",
    "output_file = './data/arxiv_small.csv'\n",
    "df_combined.to_csv(output_file, index=False)\n",
    "\n",
    "print(f\"Data saved to {output_file}\")"
   ]
  }
 ],
 "metadata": {
  "kernelspec": {
   "display_name": "Python 3",
   "language": "python",
   "name": "python3"
  },
  "language_info": {
   "codemirror_mode": {
    "name": "ipython",
    "version": 3
   },
   "file_extension": ".py",
   "mimetype": "text/x-python",
   "name": "python",
   "nbconvert_exporter": "python",
   "pygments_lexer": "ipython3",
   "version": "3.11.10"
  }
 },
 "nbformat": 4,
 "nbformat_minor": 2
}
